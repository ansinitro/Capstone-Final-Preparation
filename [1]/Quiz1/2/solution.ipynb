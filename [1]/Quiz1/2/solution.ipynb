{
 "cells": [
  {
   "cell_type": "code",
   "execution_count": 1,
   "metadata": {},
   "outputs": [],
   "source": [
    "import pandas as pd\n",
    "import numpy as np"
   ]
  },
  {
   "cell_type": "code",
   "execution_count": null,
   "metadata": {},
   "outputs": [],
   "source": [
    "df = pd.read_excel(\"data/Quiz1-Student Version_Questions2,4,5,6_Main_Dataset.xlsx\")"
   ]
  },
  {
   "cell_type": "code",
   "execution_count": null,
   "metadata": {},
   "outputs": [],
   "source": [
    "# Select the 'Corruption level Rating Score (0-100)' column\n",
    "sample_scores = df['Corruption level Rating Score (0-100)']\n",
    "\n",
    "# Compute the sample mean\n",
    "sample_mean = sample_scores.mean()\n",
    "print(f\"Mean of the selected corruption scores: {sample_mean:.2f}\")"
   ]
  },
  {
   "cell_type": "code",
   "execution_count": null,
   "metadata": {},
   "outputs": [],
   "source": [
    "# Compute the sample standard deviation (s)\n",
    "sample_std_dev = sample_scores.std(ddof=1)  # Use ddof=1 for sample standard deviation, not for population)\n",
    "\n",
    "# Compute the sample size (n)\n",
    "sample_size = len(sample_scores)\n",
    "\n",
    "# Compute the standard error (SE)\n",
    "standard_error = sample_std_dev / np.sqrt(sample_size)\n",
    "print(f\"Standard error: {standard_error:.2f}\")"
   ]
  },
  {
   "cell_type": "code",
   "execution_count": null,
   "metadata": {},
   "outputs": [],
   "source": [
    "# t-value for 95% confidence interval (given as 2.04)\n",
    "t_value = 2.04\n",
    "\n",
    "# Compute the margin of error\n",
    "margin_of_error = t_value * standard_error\n",
    "\n",
    "# Compute the confidence interval\n",
    "lower_bound = sample_mean - margin_of_error\n",
    "upper_bound = sample_mean + margin_of_error\n",
    "print(f\"95% Confidence Interval: ({lower_bound:.2f}, {upper_bound:.2f})\")"
   ]
  }
 ],
 "metadata": {
  "kernelspec": {
   "display_name": "Python 3",
   "language": "python",
   "name": "python3"
  },
  "language_info": {
   "codemirror_mode": {
    "name": "ipython",
    "version": 3
   },
   "file_extension": ".py",
   "mimetype": "text/x-python",
   "name": "python",
   "nbconvert_exporter": "python",
   "pygments_lexer": "ipython3",
   "version": "3.13.2"
  }
 },
 "nbformat": 4,
 "nbformat_minor": 2
}
