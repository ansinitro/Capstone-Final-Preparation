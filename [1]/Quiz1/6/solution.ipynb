{
 "cells": [
  {
   "cell_type": "code",
   "execution_count": 59,
   "metadata": {},
   "outputs": [],
   "source": [
    "import pandas as pd\n",
    "import numpy as np"
   ]
  },
  {
   "cell_type": "code",
   "execution_count": 60,
   "metadata": {},
   "outputs": [],
   "source": [
    "df = pd.read_excel(\"../data/Quiz1-Student Version_Questions2,4,5,6_Main_Dataset.xlsx\")"
   ]
  },
  {
   "cell_type": "code",
   "execution_count": 61,
   "metadata": {},
   "outputs": [
    {
     "name": "stdout",
     "output_type": "stream",
     "text": [
      "Compute a mean: 52.28\n"
     ]
    }
   ],
   "source": [
    "#6.1 \n",
    "print(\"Compute a mean:\", df['Corruption level Rating Score (0-100)'].mean().round(2))\n"
   ]
  },
  {
   "cell_type": "code",
   "execution_count": 62,
   "metadata": {},
   "outputs": [
    {
     "name": "stdout",
     "output_type": "stream",
     "text": [
      "Compute a standard error for Clusteting Random Sampling: 4.62\n"
     ]
    }
   ],
   "source": [
    "#6.2\n",
    "df['Y'] = (df['Corruption level Rating Score (0-100)']-52.28)**2\n",
    "\n",
    "shc_1 = df[df['Cluster'] == 'Canada']['Y'].sum() / 3\n",
    "shc_2 = df[df['Cluster'] == 'USA']['Y'].sum() / 3\n",
    "shc_3 = df[df['Cluster'] == 'Columbia']['Y'].sum() / 3\n",
    "shc_4 = df[df['Cluster'] == 'Brazil']['Y'].sum() / 3\n",
    "shc_5 = df[df['Cluster'] == 'Spain']['Y'].sum() / 3\n",
    "shc_6 = df[df['Cluster'] == 'France']['Y'].sum() / 3\n",
    "shc_7 = df[df['Cluster'] == 'Uzbekistan']['Y'].sum() / 3\n",
    "shc_8 = df[df['Cluster'] == 'Kazakhstan']['Y'].sum() / 3\n",
    "\n",
    "import math\n",
    "SE_with_clustering = (0.125**2*shc_1/4) + (0.125**2*shc_2/4) + (0.125**2*shc_3/4) + (0.125**2*shc_4/4) + (0.125**2*shc_5/4) + \\\n",
    "(0.125**2*shc_6/4) + (0.125**2*shc_7/4) + (0.125**2*shc_8/4)\n",
    "\n",
    "SE_with_clustering = math.sqrt(SE_with_clustering)\n",
    "print(\"Compute a standard error for Clusteting Random Sampling:\", round(SE_with_clustering, 2))"
   ]
  },
  {
   "cell_type": "code",
   "execution_count": 63,
   "metadata": {},
   "outputs": [
    {
     "name": "stdout",
     "output_type": "stream",
     "text": [
      "Compute d-value: 1.14\n"
     ]
    }
   ],
   "source": [
    "#6.3\n",
    "standart_error_srs = df['Corruption level Rating Score (0-100)'].sem()\n",
    "d_value = round(SE_with_clustering / standart_error_srs, 2)\n",
    "\n",
    "print(\"Compute d-value:\", d_value)"
   ]
  },
  {
   "cell_type": "code",
   "execution_count": 64,
   "metadata": {},
   "outputs": [
    {
     "name": "stdout",
     "output_type": "stream",
     "text": [
      "Compute d-squared: 1.3\n"
     ]
    }
   ],
   "source": [
    "#6.4 \n",
    "d_squared = round(d_value**2, 2)\n",
    "print(\"Compute d-squared:\", d_squared)"
   ]
  },
  {
   "cell_type": "code",
   "execution_count": 65,
   "metadata": {},
   "outputs": [
    {
     "name": "stdout",
     "output_type": "stream",
     "text": [
      "Compute roh: 0.97\n"
     ]
    }
   ],
   "source": [
    "#6.5\n",
    "# Compute roh\n",
    "roh = (d_squared - 1 / 3)\n",
    "print(\"Compute roh:\", roh.round(2))"
   ]
  },
  {
   "cell_type": "code",
   "execution_count": 66,
   "metadata": {},
   "outputs": [
    {
     "name": "stdout",
     "output_type": "stream",
     "text": [
      "Neff: 24.62\n"
     ]
    }
   ],
   "source": [
    "#6.6\n",
    "neff = round(len(df)/d_squared, 2)\n",
    "\n",
    "print(\"Neff:\", neff)"
   ]
  }
 ],
 "metadata": {
  "kernelspec": {
   "display_name": "Python 3",
   "language": "python",
   "name": "python3"
  },
  "language_info": {
   "codemirror_mode": {
    "name": "ipython",
    "version": 3
   },
   "file_extension": ".py",
   "mimetype": "text/x-python",
   "name": "python",
   "nbconvert_exporter": "python",
   "pygments_lexer": "ipython3",
   "version": "3.13.2"
  }
 },
 "nbformat": 4,
 "nbformat_minor": 2
}
