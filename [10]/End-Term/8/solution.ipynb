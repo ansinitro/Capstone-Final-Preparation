{
 "cells": [
  {
   "cell_type": "markdown",
   "metadata": {},
   "source": [
    "The Online Food Delivery System is an application that allows customers to order food\n",
    "online from various restaurants. The system supports multiple user roles (Customer, Restaurant,\n",
    "Delivery Person) and includes functionalities for browsing menus, placing orders, processing\n",
    "payments, and delivering orders.\n",
    "\n",
    "1. Classes Overview\n",
    "\n",
    "| Class | Attributes | Operations/Methods |\n",
    "|----------|---------|--------------------|\n",
    "| Customer | - customerId (int)<br>- name (string)<br>- address (string)<br>- phone (string)<br>- email (string) | - register()<br>- login()<br>- updateProfile()<br>- placeOrder() |\n",
    "| Restaurant | - restaurantId (int)<br>- name (string)<br>- address (string)<br>- phone (string)<br>- menu (List of FoodItem) | - addFoodItem(FoodItem)<br>- removeFoodItem(FoodItem)<br>- updateFoodItem(FoodItem)<br>- viewOrders() |\n",
    "| FoodItem | - foodId (int)<br>- name (string)<br>- description (string)<br>- price (float)<br>- available (bool) | - updateAvailability() |\n",
    "| Order | - orderId (int)<br>- foodItems (List of FoodItem)<br>- totalPrice (float)<br>- status (string) | - placeOrder()<br>- cancelOrder()<br>- updateStatus() |\n",
    "| Payment | - paymentId (int)<br>- amount (float)<br>- method (string)<br>- status (string) | - processPayment()<br>- refundPayment() |\n",
    "| DeliveryPerson | - deliveryId (int)<br>- name (string)<br>- phone (string)<br>- available (bool) | - assignOrder(Order)<br>- updateStatus() |\n",
    "\n",
    "2. Relationships Between Entities\n",
    "\n",
    "| Source Class | Target Class | Relationship Description | Multiplicity |\n",
    "|--------------|--------------|--------------------------|--------------|\n",
    "| Customer | Order | A Customer places an Order. | 1 Customer : * Orders |\n",
    "| Restaurant | FoodItem | A Restaurant offers multiple FoodItem objects in its menu. | 1 Restaurant : * FoodItems |\n",
    "| Restaurant | Order | A Restaurant receives orders from customers. | 1 Restaurant : * Orders |\n",
    "| Order | FoodItem | An Order contains one or more FoodItem objects. | 1 Order : * FoodItems |\n",
    "| Order | Payment | Each Order is associated with exactly one Payment. | 1 Order : 1 Payment |\n",
    "| Order | DeliveryPerson | An Order may be delivered by a DeliveryPerson (if assigned). | 1 Order : 0..1 DeliveryPerson |\n",
    "\n"
   ]
  },
  {
   "cell_type": "markdown",
   "metadata": {},
   "source": [
    "![Alt Text](./photo/Correct.png)"
   ]
  }
 ],
 "metadata": {
  "language_info": {
   "name": "python"
  }
 },
 "nbformat": 4,
 "nbformat_minor": 2
}
