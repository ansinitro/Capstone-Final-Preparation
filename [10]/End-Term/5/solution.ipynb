{
 "cells": [
  {
   "cell_type": "markdown",
   "metadata": {},
   "source": [
    "| # |Diagram Type | Diagram |\n",
    "|---|-------------|---------|\n",
    "| A | Class Diagram | ![Alt Text](./photo/A.png) | \n",
    "| B | Object Diagram | ![Alt Text](./photo/B.png) | \n",
    "| C | Profile Diagram | ![Alt Text](./photo/C.png) | \n",
    "| D | Use Case Diagram | ![Alt Text](./photo/D.png) | \n",
    "| E | Interaction Diagram (Sequence Diagram) | ![Alt Text](./photo/E.png) | \n",
    "| F | Component Diagram | ![Alt Text](./photo/F.png) |\n"
   ]
  }
 ],
 "metadata": {
  "language_info": {
   "name": "python"
  }
 },
 "nbformat": 4,
 "nbformat_minor": 2
}
