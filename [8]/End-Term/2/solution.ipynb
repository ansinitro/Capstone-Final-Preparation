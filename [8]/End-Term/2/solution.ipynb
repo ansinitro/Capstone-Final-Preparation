{
 "cells": [
  {
   "cell_type": "markdown",
   "metadata": {},
   "source": [
    "| # |Diagram Type | Diagram |\n",
    "|---|-------------|---------|\n",
    "| A | Repeat of the code | ![Alt Text](./photo/A.png) | \n",
    "| B | External References | ![Alt Text](./photo/B.png) | \n",
    "| C | Summary of the Code | ![Alt Text](./photo/C.png) | \n",
    "| D | Description of the Code Intent | ![Alt Text](./photo/D.png) | \n",
    "| E | Marker in The Code | ![Alt Text](./photo/E.png) | \n",
    "| F | Explanation of the Code | ![Alt Text](./photo/F.png) |\n",
    "| G | Repeat of the code | ![Alt Text](./photo/G.png) |\n",
    "| H | External References | ![Alt Text](./photo/H.png) |\n",
    "| I | Description of the Code Intent | ![Alt Text](./photo/I.png) |\n",
    "| J | Summary of the Code | ![Alt Text](./photo/J.png) |\n",
    "| K | Marker in The Code | ![Alt Text](./photo/K.png) |\n",
    "| L | Explanation of the Code | ![Alt Text](./photo/L.png) |"
   ]
  }
 ],
 "metadata": {
  "language_info": {
   "name": "python"
  }
 },
 "nbformat": 4,
 "nbformat_minor": 2
}
