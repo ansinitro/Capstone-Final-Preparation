{
 "cells": [
  {
   "cell_type": "code",
   "execution_count": 1,
   "metadata": {},
   "outputs": [],
   "source": [
    "import pandas as pd\n",
    "import numpy as np"
   ]
  },
  {
   "cell_type": "code",
   "execution_count": 8,
   "metadata": {},
   "outputs": [
    {
     "name": "stdout",
     "output_type": "stream",
     "text": [
      "Compute a mean: 50.6\n"
     ]
    }
   ],
   "source": [
    "df = pd.read_excel(\"./data/Question1_Final_CP.xlsx\")\n",
    "\n",
    "# Case\tStratum\tCluster\tVariable\n",
    "# 1\t1\t1\t11.50\n",
    "# 2\t1\t1\t29\n",
    "# 3\t1\t2\t35.60\n",
    "# 4\t1\t2\t64.70\n",
    "# 5\t2\t3\t19.20\n",
    "# 6\t2\t3\t20.50\n",
    "# 7\t2\t4\t37.10\n",
    "# 8\t2\t4\t92\n",
    "# 9\t3\t5\t88.30\n",
    "# 10\t3\t5\t78.40\n",
    "# 11\t3\t6\t65.30\n",
    "# 12\t3\t6\t55.20\n",
    "# 13\t4\t7\t85.30\n",
    "# 14\t4\t7\t15.70\n",
    "# 15\t4\t8\t44.50\n",
    "# 16\t4\t8\t67.30\n",
    "\n",
    "\n",
    "mean = df['Variable'].mean().round(2)\n",
    "print(\"Compute a mean:\", mean)"
   ]
  },
  {
   "cell_type": "code",
   "execution_count": null,
   "metadata": {},
   "outputs": [],
   "source": [
    "import pandas as pd\n",
    "import numpy as np"
   ]
  },
  {
   "cell_type": "code",
   "execution_count": null,
   "metadata": {},
   "outputs": [],
   "source": [
    "confident_level = 2.04\n",
    "\n",
    "standart_err = "
   ]
  },
  {
   "cell_type": "code",
   "execution_count": null,
   "metadata": {},
   "outputs": [
    {
     "name": "stdout",
     "output_type": "stream",
     "text": [
      "Mean for SRS: 50.60\n",
      "Standard Error for SRS: 6.89\n",
      "Upper Limit for SRS: 64.65\n",
      "Lower Limit for SRS: 36.55\n",
      "Wh values: [0.25, 0.25, 0.25, 0.25]\n",
      "Stratified Mean: 50.60\n",
      "Standard Error for Stratified Sampling: 13.17\n",
      "d-value: 1.91\n",
      "d-squared: 3.66\n",
      "Neff (Effective sample size): 0.29\n"
     ]
    }
   ],
   "source": [
    "import numpy as np\n",
    "\n",
    "# Sample data for SRS and Stratified Sampling\n",
    "srs_data = [11.50, 29, 35.60, 64.70, 19.20, 20.50, 37.10, 92, 88.30, 78.40, 65.30, 55.20, 85.30, 15.70, 44.50, 67.30]\n",
    "\n",
    "# Stratified Data by Stratum\n",
    "stratum_1 = [11.50, 29, 35.60, 64.70]\n",
    "stratum_2 = [19.20, 20.50, 37.10, 92]\n",
    "stratum_3 = [88.30, 78.40, 65.30, 55.20]\n",
    "stratum_4 = [85.30, 15.70, 44.50, 67.30]\n",
    "\n",
    "# ==========================\n",
    "# Simple Random Sampling (SRS)\n",
    "# ==========================\n",
    "\n",
    "# 1) Compute Mean for SRS\n",
    "mean_srs = np.mean(srs_data)\n",
    "print(f\"Mean for SRS: {mean_srs:.2f}\")\n",
    "\n",
    "# 2) Compute Standard Error for SRS\n",
    "std_error_srs = np.std(srs_data, ddof=1) / np.sqrt(len(srs_data))\n",
    "print(f\"Standard Error for SRS: {std_error_srs:.2f}\")\n",
    "\n",
    "# 3) Compute 95% Confidence Interval for SRS\n",
    "t_value = 2.04\n",
    "upper_limit_srs = mean_srs + t_value * std_error_srs\n",
    "lower_limit_srs = mean_srs - t_value * std_error_srs\n",
    "print(f\"Upper Limit for SRS: {upper_limit_srs:.2f}\")\n",
    "print(f\"Lower Limit for SRS: {lower_limit_srs:.2f}\")\n",
    "\n",
    "# ============================\n",
    "# Stratified Random Sampling\n",
    "# ============================\n",
    "\n",
    "# 1) Calculate Wh (weight for each stratum)\n",
    "total_population = len(stratum_1) + len(stratum_2) + len(stratum_3) + len(stratum_4)\n",
    "wh = [len(stratum) / total_population for stratum in [stratum_1, stratum_2, stratum_3, stratum_4]]\n",
    "print(f\"Wh values: {wh}\")\n",
    "\n",
    "# 2) Compute Mean for Stratified Sampling\n",
    "means_stratum = [np.mean(stratum) for stratum in [stratum_1, stratum_2, stratum_3, stratum_4]]\n",
    "stratified_mean = np.sum([wh[i] * means_stratum[i] for i in range(4)])\n",
    "print(f\"Stratified Mean: {stratified_mean:.2f}\")\n",
    "\n",
    "\n",
    "\n",
    "df['Y'] = (df['Corruption level Rating Score (0-100)']-mean)**2\n",
    "\n",
    "stratums = df['Stratum'].unique()\n",
    "sh_values = {}\n",
    "\n",
    "for stratum in stratums:\n",
    "    sh_values[stratum] = df[df['Stratum'] == stratum]['Y'].sum() / float(len(df[df['Stratum'] == stratum]['Y']) - 1)\n",
    "\n",
    "#4.3\n",
    "import math\n",
    "standart_strat = math.sqrt(((0.25**2*sh_values['North America']/8)+\n",
    "                            (0.25**2*sh_values['South America']/8)+\n",
    "                            (0.25**2*sh_values['Europe']/8)+\n",
    "                            (0.25**2*sh_values['Central Asia']/8)))\n",
    "\n",
    "print(\"Compute a standard error for Stratified part:\", round(standart_strat, 2))\n",
    "\n",
    "\n",
    "\n",
    "\n",
    "# 3) Compute Standard Error for Stratified Sampling\n",
    "variances_stratum = [np.var(stratum, ddof=1) for stratum in [stratum_1, stratum_2, stratum_3, stratum_4]]\n",
    "std_error_stratified = np.sqrt(np.sum([wh[i]**2 * variances_stratum[i] for i in range(4)]))\n",
    "print(f\"Standard Error for Stratified Sampling: {std_error_stratified:.2f}\")\n",
    "\n",
    "# 4) Compute d-value (ratio of standard error for Stratified over Standard Error for SRS)\n",
    "d_value = std_error_stratified / std_error_srs\n",
    "print(f\"d-value: {d_value:.2f}\")\n",
    "\n",
    "# 5) Compute d-squared\n",
    "d_squared = d_value ** 2\n",
    "print(f\"d-squared: {d_squared:.2f}\")\n",
    "\n",
    "# 6) Compute Neff (Effective sample size)\n",
    "neff = total_population / (1 + (total_population - 1) * d_squared)\n",
    "print(f\"Neff (Effective sample size): {neff:.2f}\")\n"
   ]
  },
  {
   "cell_type": "code",
   "execution_count": null,
   "metadata": {},
   "outputs": [],
   "source": []
  }
 ],
 "metadata": {
  "kernelspec": {
   "display_name": "Python 3",
   "language": "python",
   "name": "python3"
  },
  "language_info": {
   "codemirror_mode": {
    "name": "ipython",
    "version": 3
   },
   "file_extension": ".py",
   "mimetype": "text/x-python",
   "name": "python",
   "nbconvert_exporter": "python",
   "pygments_lexer": "ipython3",
   "version": "3.13.2"
  }
 },
 "nbformat": 4,
 "nbformat_minor": 2
}
